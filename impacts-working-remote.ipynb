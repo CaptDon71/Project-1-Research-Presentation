{
 "cells": [
  {
   "cell_type": "code",
   "execution_count": 5,
   "id": "997faf87",
   "metadata": {},
   "outputs": [],
   "source": [
    "%matplotlib inline\n",
    "import pandas as pd # Import the pandas library and assign it the alias pd\n",
    "\n",
    "import matplotlib.pyplot as plt # Import the pyplot module from the matplotlib library and assign it the alias plt\n"
   ]
  },
  {
   "cell_type": "code",
   "execution_count": 9,
   "id": "d0b21d2f",
   "metadata": {},
   "outputs": [],
   "source": [
    "mental_health_data = pd.read_csv('Resources/tech_survey.csv')"
   ]
  },
  {
   "cell_type": "code",
   "execution_count": null,
   "id": "83b75d64",
   "metadata": {},
   "outputs": [],
   "source": [
    "mental_health_data.columns\n"
   ]
  },
  {
   "cell_type": "code",
   "execution_count": null,
   "id": "70ee2bfb",
   "metadata": {},
   "outputs": [],
   "source": []
  }
 ],
 "metadata": {
  "kernelspec": {
   "display_name": "Python 3 (ipykernel)",
   "language": "python",
   "name": "python3"
  },
  "language_info": {
   "codemirror_mode": {
    "name": "ipython",
    "version": 3
   },
   "file_extension": ".py",
   "mimetype": "text/x-python",
   "name": "python",
   "nbconvert_exporter": "python",
   "pygments_lexer": "ipython3",
   "version": "3.12.3"
  }
 },
 "nbformat": 4,
 "nbformat_minor": 5
}
