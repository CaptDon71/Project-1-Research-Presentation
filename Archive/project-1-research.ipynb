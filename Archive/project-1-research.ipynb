{
 "cells": [
  {
   "cell_type": "code",
   "execution_count": null,
   "id": "7269d8eb",
   "metadata": {},
   "outputs": [],
   "source": [
    "import pandas as pd\n",
    "\n",
    "mental_health_data = pd.read_csv('mental_health.csv')\n",
    "burnout_data = pd.read_csv('burnout.csv')\n",
    "productivity_data = pd.read_csv('productivity.csv')\n",
    "work_life_balance_data = pd.read_csv('work_life_balance.csv')\n",
    "\n",
    "# Merging based on a shared identifier like employee_id, or relevant context (e.g., industry, job type)\n",
    "combined_data = mental_health_data.merge(burnout_data, on='employee_id').merge(productivity_data, on='employee_id').merge(work_life_balance_data, on='employee_id')\n"
   ]
  },
  {
   "cell_type": "code",
   "execution_count": null,
   "id": "fe59b254",
   "metadata": {},
   "outputs": [],
   "source": [
    "combined_data['tech_exposure_score'] = combined_data['screen_time'] + combined_data['multitasking'] + combined_data['technology_dependency']\n"
   ]
  },
  {
   "cell_type": "code",
   "execution_count": null,
   "id": "5e885c0d",
   "metadata": {},
   "outputs": [],
   "source": [
    "combined_data['work_life_balance_index'] = combined_data['work_hours'] * combined_data['remote_work'] / combined_data['job_satisfaction']\n"
   ]
  },
  {
   "cell_type": "code",
   "execution_count": null,
   "id": "4cc32889",
   "metadata": {},
   "outputs": [],
   "source": [
    "from sklearn.linear_model import LinearRegression\n",
    "\n",
    "X = combined_data[['tech_exposure_score', 'work_life_balance_index']]\n",
    "y = combined_data['burnout']\n",
    "\n",
    "model = LinearRegression()\n",
    "model.fit(X, y)\n",
    "print(model.coef_)\n"
   ]
  },
  {
   "cell_type": "code",
   "execution_count": null,
   "id": "7a363693",
   "metadata": {},
   "outputs": [],
   "source": []
  }
 ],
 "metadata": {
  "kernelspec": {
   "display_name": "Python 3 (ipykernel)",
   "language": "python",
   "name": "python3"
  },
  "language_info": {
   "codemirror_mode": {
    "name": "ipython",
    "version": 3
   },
   "file_extension": ".py",
   "mimetype": "text/x-python",
   "name": "python",
   "nbconvert_exporter": "python",
   "pygments_lexer": "ipython3",
   "version": "3.12.3"
  }
 },
 "nbformat": 4,
 "nbformat_minor": 5
}
