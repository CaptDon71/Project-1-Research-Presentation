{
 "cells": [
  {
   "cell_type": "code",
   "execution_count": null,
   "id": "c3e8d5db",
   "metadata": {},
   "outputs": [],
   "source": [
    "import pandas as pd # Import the pandas library and assign it the alias pd\n",
    "import matplotlib.pyplot as plt # Import the pyplot module from the matplotlib library and assign it the alias plt"
   ]
  },
  {
   "cell_type": "code",
   "execution_count": null,
   "id": "f0097093",
   "metadata": {},
   "outputs": [],
   "source": [
    "import pandas as pd # Import the pandas library and assign it the alias pd\n",
    "import matplotlib.pyplot as plt # Import the pyplot module from the matplotlib library and assign it the alias plt"
   ]
  },
  {
   "cell_type": "code",
   "execution_count": null,
   "id": "2d80d98e",
   "metadata": {},
   "outputs": [],
   "source": []
  },
  {
   "cell_type": "code",
   "execution_count": null,
   "id": "7505b1a5",
   "metadata": {},
   "outputs": [],
   "source": []
  },
  {
   "cell_type": "code",
   "execution_count": null,
   "id": "6ad247b4",
   "metadata": {},
   "outputs": [],
   "source": []
  }
 ],
 "metadata": {
  "kernelspec": {
   "display_name": "Python 3 (ipykernel)",
   "language": "python",
   "name": "python3"
  },
  "language_info": {
   "codemirror_mode": {
    "name": "ipython",
    "version": 3
   },
   "file_extension": ".py",
   "mimetype": "text/x-python",
   "name": "python",
   "nbconvert_exporter": "python",
   "pygments_lexer": "ipython3",
   "version": "3.12.3"
  }
 },
 "nbformat": 4,
 "nbformat_minor": 5
}
