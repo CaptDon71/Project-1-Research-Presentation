{
 "cells": [
  {
   "cell_type": "code",
   "execution_count": 9,
   "id": "c3e8d5db",
   "metadata": {},
   "outputs": [],
   "source": [
    "import pandas as pd # Import the pandas library and assign it the alias pd\n",
    "import matplotlib.pyplot as plt # Import the pyplot module from the matplotlib library and assign it the alias plt"
   ]
  },
  {
   "cell_type": "code",
   "execution_count": 10,
   "id": "f0097093",
   "metadata": {},
   "outputs": [],
   "source": [
    "# Read the CSV file\n",
    "# The CSV file is read using pd.read_csv() and stored in the DataFrame df.\n",
    "df = pd.read_csv('Resources/tech_survey.csv')"
   ]
  },
  {
   "cell_type": "code",
   "execution_count": 11,
   "id": "2d80d98e",
   "metadata": {},
   "outputs": [],
   "source": [
    "# Select the columns with varied responses\n",
    "# The variable response_column is set to the column names.\n",
    "response_columns = ['Have you ever experienced working from home?',\n",
    "                    'Do you think that working from home increases your work productivity?',\n",
    "                    'Do you think that working from home prevents you from going out?',\n",
    "                    'Do you think that working from home gives you more flexibility?',\n",
    "                    'Do you think that working from home saves you more time?',\n",
    "                    'Which work type has the potential to cause you physical problems, such as the neck, back, and leg pain?',\n",
    "                    'Which work type has the potential to cause mental disorders, such as stress, anxiety, and depression?',\n",
    "                    'Do you think that working from home prevents you from getting in contact with people?',\n",
    "                    'Which work type keeps you focused while working?',\n",
    "                    'Which work type do you prefer the most?']"
   ]
  },
  {
   "cell_type": "code",
   "execution_count": 13,
   "id": "7505b1a5",
   "metadata": {},
   "outputs": [
    {
     "ename": "KeyError",
     "evalue": "'Have you ever experienced working from home?'",
     "output_type": "error",
     "traceback": [
      "\u001b[1;31m---------------------------------------------------------------------------\u001b[0m",
      "\u001b[1;31mKeyError\u001b[0m                                  Traceback (most recent call last)",
      "File \u001b[1;32m~\\anaconda3\\Lib\\site-packages\\pandas\\core\\indexes\\base.py:3805\u001b[0m, in \u001b[0;36mIndex.get_loc\u001b[1;34m(self, key)\u001b[0m\n\u001b[0;32m   3804\u001b[0m \u001b[38;5;28;01mtry\u001b[39;00m:\n\u001b[1;32m-> 3805\u001b[0m     \u001b[38;5;28;01mreturn\u001b[39;00m \u001b[38;5;28mself\u001b[39m\u001b[38;5;241m.\u001b[39m_engine\u001b[38;5;241m.\u001b[39mget_loc(casted_key)\n\u001b[0;32m   3806\u001b[0m \u001b[38;5;28;01mexcept\u001b[39;00m \u001b[38;5;167;01mKeyError\u001b[39;00m \u001b[38;5;28;01mas\u001b[39;00m err:\n",
      "File \u001b[1;32mindex.pyx:167\u001b[0m, in \u001b[0;36mpandas._libs.index.IndexEngine.get_loc\u001b[1;34m()\u001b[0m\n",
      "File \u001b[1;32mindex.pyx:196\u001b[0m, in \u001b[0;36mpandas._libs.index.IndexEngine.get_loc\u001b[1;34m()\u001b[0m\n",
      "File \u001b[1;32mpandas\\\\_libs\\\\hashtable_class_helper.pxi:7081\u001b[0m, in \u001b[0;36mpandas._libs.hashtable.PyObjectHashTable.get_item\u001b[1;34m()\u001b[0m\n",
      "File \u001b[1;32mpandas\\\\_libs\\\\hashtable_class_helper.pxi:7089\u001b[0m, in \u001b[0;36mpandas._libs.hashtable.PyObjectHashTable.get_item\u001b[1;34m()\u001b[0m\n",
      "\u001b[1;31mKeyError\u001b[0m: 'Have you ever experienced working from home?'",
      "\nThe above exception was the direct cause of the following exception:\n",
      "\u001b[1;31mKeyError\u001b[0m                                  Traceback (most recent call last)",
      "Cell \u001b[1;32mIn[13], line 5\u001b[0m\n\u001b[0;32m      1\u001b[0m \u001b[38;5;66;03m# Plotting a bar chart for each question\u001b[39;00m\n\u001b[0;32m      2\u001b[0m \u001b[38;5;28;01mfor\u001b[39;00m column \u001b[38;5;129;01min\u001b[39;00m response_columns:\n\u001b[0;32m      3\u001b[0m     \u001b[38;5;66;03m# Filter the column for yes and no responses\u001b[39;00m\n\u001b[0;32m      4\u001b[0m     \u001b[38;5;66;03m# The DataFrame is filtered to include only rows where the selected column has 'Yes', 'No', 'Working from home', 'Working in an office', 'A mixed mode of working' values using df[response_column].notnull().\u001b[39;00m\n\u001b[1;32m----> 5\u001b[0m     filtered_df \u001b[38;5;241m=\u001b[39m df[df[column]\u001b[38;5;241m.\u001b[39misin([\u001b[38;5;124m'\u001b[39m\u001b[38;5;124mYes\u001b[39m\u001b[38;5;124m'\u001b[39m, \u001b[38;5;124m'\u001b[39m\u001b[38;5;124mNo\u001b[39m\u001b[38;5;124m'\u001b[39m, \u001b[38;5;124m'\u001b[39m\u001b[38;5;124mWorking from home\u001b[39m\u001b[38;5;124m'\u001b[39m, \u001b[38;5;124m'\u001b[39m\u001b[38;5;124mWorking in an office\u001b[39m\u001b[38;5;124m'\u001b[39m, \u001b[38;5;124m'\u001b[39m\u001b[38;5;124mA mixed mode of working\u001b[39m\u001b[38;5;124m'\u001b[39m])]\n\u001b[0;32m      6\u001b[0m     \u001b[38;5;66;03m# Count the number of each response\u001b[39;00m\n\u001b[0;32m      7\u001b[0m     \u001b[38;5;66;03m# The count of each response category is calculated using .value_counts() on the filtered DataFrame.\u001b[39;00m\n\u001b[0;32m      8\u001b[0m     response_counts \u001b[38;5;241m=\u001b[39m filtered_df[column]\u001b[38;5;241m.\u001b[39mvalue_counts()\n",
      "File \u001b[1;32m~\\anaconda3\\Lib\\site-packages\\pandas\\core\\frame.py:4102\u001b[0m, in \u001b[0;36mDataFrame.__getitem__\u001b[1;34m(self, key)\u001b[0m\n\u001b[0;32m   4100\u001b[0m \u001b[38;5;28;01mif\u001b[39;00m \u001b[38;5;28mself\u001b[39m\u001b[38;5;241m.\u001b[39mcolumns\u001b[38;5;241m.\u001b[39mnlevels \u001b[38;5;241m>\u001b[39m \u001b[38;5;241m1\u001b[39m:\n\u001b[0;32m   4101\u001b[0m     \u001b[38;5;28;01mreturn\u001b[39;00m \u001b[38;5;28mself\u001b[39m\u001b[38;5;241m.\u001b[39m_getitem_multilevel(key)\n\u001b[1;32m-> 4102\u001b[0m indexer \u001b[38;5;241m=\u001b[39m \u001b[38;5;28mself\u001b[39m\u001b[38;5;241m.\u001b[39mcolumns\u001b[38;5;241m.\u001b[39mget_loc(key)\n\u001b[0;32m   4103\u001b[0m \u001b[38;5;28;01mif\u001b[39;00m is_integer(indexer):\n\u001b[0;32m   4104\u001b[0m     indexer \u001b[38;5;241m=\u001b[39m [indexer]\n",
      "File \u001b[1;32m~\\anaconda3\\Lib\\site-packages\\pandas\\core\\indexes\\base.py:3812\u001b[0m, in \u001b[0;36mIndex.get_loc\u001b[1;34m(self, key)\u001b[0m\n\u001b[0;32m   3807\u001b[0m     \u001b[38;5;28;01mif\u001b[39;00m \u001b[38;5;28misinstance\u001b[39m(casted_key, \u001b[38;5;28mslice\u001b[39m) \u001b[38;5;129;01mor\u001b[39;00m (\n\u001b[0;32m   3808\u001b[0m         \u001b[38;5;28misinstance\u001b[39m(casted_key, abc\u001b[38;5;241m.\u001b[39mIterable)\n\u001b[0;32m   3809\u001b[0m         \u001b[38;5;129;01mand\u001b[39;00m \u001b[38;5;28many\u001b[39m(\u001b[38;5;28misinstance\u001b[39m(x, \u001b[38;5;28mslice\u001b[39m) \u001b[38;5;28;01mfor\u001b[39;00m x \u001b[38;5;129;01min\u001b[39;00m casted_key)\n\u001b[0;32m   3810\u001b[0m     ):\n\u001b[0;32m   3811\u001b[0m         \u001b[38;5;28;01mraise\u001b[39;00m InvalidIndexError(key)\n\u001b[1;32m-> 3812\u001b[0m     \u001b[38;5;28;01mraise\u001b[39;00m \u001b[38;5;167;01mKeyError\u001b[39;00m(key) \u001b[38;5;28;01mfrom\u001b[39;00m \u001b[38;5;21;01merr\u001b[39;00m\n\u001b[0;32m   3813\u001b[0m \u001b[38;5;28;01mexcept\u001b[39;00m \u001b[38;5;167;01mTypeError\u001b[39;00m:\n\u001b[0;32m   3814\u001b[0m     \u001b[38;5;66;03m# If we have a listlike key, _check_indexing_error will raise\u001b[39;00m\n\u001b[0;32m   3815\u001b[0m     \u001b[38;5;66;03m#  InvalidIndexError. Otherwise we fall through and re-raise\u001b[39;00m\n\u001b[0;32m   3816\u001b[0m     \u001b[38;5;66;03m#  the TypeError.\u001b[39;00m\n\u001b[0;32m   3817\u001b[0m     \u001b[38;5;28mself\u001b[39m\u001b[38;5;241m.\u001b[39m_check_indexing_error(key)\n",
      "\u001b[1;31mKeyError\u001b[0m: 'Have you ever experienced working from home?'"
     ]
    }
   ],
   "source": [
    "# Plotting a bar chart for each question\n",
    "for column in response_columns:\n",
    "    # Filter the column for yes and no responses\n",
    "    # The DataFrame is filtered to include only rows where the selected column has 'Yes', 'No', 'Working from home', 'Working in an office', 'A mixed mode of working' values using df[response_column].notnull().\n",
    "    filtered_df = df[df[column].isin(['Yes', 'No', 'Working from home', 'Working in an office', 'A mixed mode of working'])]\n",
    "    # Count the number of each response\n",
    "    # The count of each response category is calculated using .value_counts() on the filtered DataFrame.\n",
    "    response_counts = filtered_df[column].value_counts()\n",
    "    # Plot the bar chart\n",
    "    # Create a bar chart with x-values as response categories and y-values as their respective counts\n",
    "    plt.bar(response_counts.index, response_counts.values)\n",
    "    plt.xlabel('Responses') # Set the label for the x-axis\n",
    "    plt.ylabel('Count') # Set the label for the y-axis\n",
    "    plt.title(f'Distribution of Responses: {column}') # Set the title of the bar chart, dynamically using the column name\n",
    "    plt.xticks(rotation=45)  # Rotate x-axis labels if needed\n",
    "    plt.show() # Display the bar chart\n",
    "    # Plot the pie chart\n",
    "    # The pie chart is plotted using plt.pie(), where the values and labels are set as the count and response categories, respectively.\n",
    "    # The autopct='%1.1f%%' parameter formats the percentage display on the chart.\n",
    "    plt.pie(response_counts.values, labels=response_counts.index, autopct='%1.1f%%')\n",
    "    plt.title(f'Distribution of Responses: {column}') # Set the title of the bar chart, dynamically using the column name\n",
    "    plt.axis('equal') # Ensure an equal aspect ratio for a circular pie chart\n",
    "    plt.show() # Display the chart."
   ]
  },
  {
   "cell_type": "code",
   "execution_count": null,
   "id": "6ad247b4",
   "metadata": {},
   "outputs": [],
   "source": [
    "\n",
    "    "
   ]
  },
  {
   "cell_type": "code",
   "execution_count": null,
   "id": "5a151bae",
   "metadata": {},
   "outputs": [],
   "source": [
    "\n",
    "    "
   ]
  },
  {
   "cell_type": "code",
   "execution_count": null,
   "id": "4181bc49",
   "metadata": {},
   "outputs": [],
   "source": []
  }
 ],
 "metadata": {
  "kernelspec": {
   "display_name": "Python 3 (ipykernel)",
   "language": "python",
   "name": "python3"
  },
  "language_info": {
   "codemirror_mode": {
    "name": "ipython",
    "version": 3
   },
   "file_extension": ".py",
   "mimetype": "text/x-python",
   "name": "python",
   "nbconvert_exporter": "python",
   "pygments_lexer": "ipython3",
   "version": "3.12.3"
  }
 },
 "nbformat": 4,
 "nbformat_minor": 5
}
