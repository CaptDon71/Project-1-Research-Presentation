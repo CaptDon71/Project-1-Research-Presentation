{
 "cells": [
  {
   "cell_type": "code",
   "execution_count": null,
   "id": "5526552e-6188-4db1-afba-343334c5692d",
   "metadata": {},
   "outputs": [],
   "source": [
    "##Q4: How does remote work impact mental health compared to on-site work?"
   ]
  }
 ],
 "metadata": {
  "kernelspec": {
   "display_name": "Python 3 (ipykernel)",
   "language": "python",
   "name": "python3"
  },
  "language_info": {
   "codemirror_mode": {
    "name": "ipython",
    "version": 3
   },
   "file_extension": ".py",
   "mimetype": "text/x-python",
   "name": "python",
   "nbconvert_exporter": "python",
   "pygments_lexer": "ipython3",
   "version": "3.12.4"
  }
 },
 "nbformat": 4,
 "nbformat_minor": 5
}
